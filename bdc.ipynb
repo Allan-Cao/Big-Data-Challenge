{
 "cells": [
  {
   "cell_type": "markdown",
   "metadata": {},
   "source": [
    "### Commands that need to be run:\n",
    "pip3 install xlrd\n",
    "pip3 install scipy\n",
    "pip3 install seaborn\n",
    "pip3 install --upgrade --no-deps statsmodels\n"
   ]
  },
  {
   "cell_type": "code",
   "execution_count": 1,
   "metadata": {},
   "outputs": [],
   "source": [
    "### LIBRARIES AND DATA ###\n",
    "from process import recompile\n",
    "current_year = 2014\n",
    "import pickle\n",
    "import math\n",
    "import pandas as pd\n",
    "import matplotlib.pyplot as plt\n",
    "import numpy as np\n",
    "import matplotlib\n",
    "import seaborn as sns\n",
    "sns.set(style=\"whitegrid\")\n",
    "from scipy import stats\n",
    "countries = ['ZAF', 'COL', 'SGP', 'GRC', 'ITA', 'CZE', 'CHL', 'PER', 'IRL', 'TUR', 'FIN', 'MYS', 'SVN', 'PAK', 'CAN', 'FRA', 'SVK', 'DNK', 'JAM', 'PHL', 'ARG', 'ISR', 'RUS', 'CHE', 'ROU', 'DEU', 'NLD', 'SWE', 'USA', 'NOR', 'CRI', 'BRA', 'NZL', 'EST', 'PRT', 'MLT', 'LVA', 'LKA', 'AUS', 'URY', 'KHM', 'BEL', 'JPN', 'POL', 'MEX', 'LTU', 'AUT', 'VEN', 'BGR', 'KOR', 'ESP', 'IDN', 'HUN', 'ARM', 'GBR', 'BGD', 'ECU', 'THA', 'CYP', 'IND', 'LUX', 'ISR']\n",
    "countryupdate = ['ZAF', 'COL', 'SGP', 'GRC', 'ITA', 'CZE', 'CHL', 'PER', 'IRL', 'TUR', 'FIN', 'MYS', 'SVN', 'CAN', 'FRA', 'SVK', 'DNK', 'JAM', 'PHL', 'ARG', 'ISR', 'RUS', 'CHE', 'ROU', 'DEU', 'NLD', 'SWE', 'USA', 'NOR', 'CRI', 'BRA', 'NZL', 'EST', 'PRT', 'MLT', 'LVA', 'LKA', 'AUS', 'URY', 'KHM', 'BEL', 'JPN', 'POL', 'MEX', 'LTU', 'AUT', 'VEN', 'BGR', 'KOR', 'ESP', 'IDN', 'HUN', 'ARM', 'GBR', 'ECU', 'THA', 'CYP', 'LUX', 'ISR']"
   ]
  },
  {
   "cell_type": "code",
   "execution_count": 2,
   "metadata": {
    "scrolled": true
   },
   "outputs": [],
   "source": [
    "######### READ RAW DATA #########\n",
    "df=pd.DataFrame(pd.read_csv('dataframes/df.csv')) # average hours worked \n",
    "df2=pd.DataFrame(pd.read_csv('dataframes/df2.csv')) # mental health and substance use rates\n",
    "df3=pd.DataFrame(pd.read_csv('dataframes/df3.csv')) # depression rates\n",
    "df4=pd.DataFrame(pd.read_csv('dataframes/df4.csv')) # suicide rates and mental health and substance use rate\n",
    "df6=pd.DataFrame(pd.read_csv('dataframes/df6.csv')) # percent of population living in rural conditions\n",
    "#df5 = pd.DataFrame(pd.read_excel('CLASS.XLS')) # BAD DATA\n",
    "df7=pd.DataFrame(pd.read_csv('dataframes/df7.csv')) # WHR Chapter 2 Data\n",
    "df8=pd.DataFrame(pd.read_csv('dataframes/df8.csv')) # air quality\n",
    "df9=pd.DataFrame(pd.read_csv('dataframes/df9.csv')) # happiness\n",
    "df10=pd.DataFrame(pd.read_csv('dataframes/df10.csv'))\n",
    "df11=pd.DataFrame(pd.read_csv('data archive/enviroment.csv'))"
   ]
  },
  {
   "cell_type": "code",
   "execution_count": 6,
   "metadata": {},
   "outputs": [],
   "source": [
    "def get_data(df,study,countries=countries,country_code='country',year='year',use_year=True):\n",
    "    data1 = []\n",
    "    debug = []\n",
    "    for country in countries:\n",
    "        for x in range(len(df[country_code])):\n",
    "            if df[country_code][x] == country:\n",
    "                if use_year:\n",
    "                    if (df[year][x] == current_year):\n",
    "                        data1.append(df[study][x])\n",
    "                        debug.append(country)\n",
    "                        if math.isnan(df[study][x]):\n",
    "                            print('Missing data from %s' % (country))\n",
    "                else:\n",
    "                    data1.append(df[study][x])\n",
    "                    debug.append(country)\n",
    "                    if math.isnan(df[study][x]):\n",
    "                        print('Missing data from %s' % (country))\n",
    "    return(data1)"
   ]
  },
  {
   "cell_type": "code",
   "execution_count": 55,
   "metadata": {},
   "outputs": [],
   "source": [
    "from process import recompile\n",
    "#data1,data2,data3,data4 = (recompile(countries,current_year))\n",
    "data1v2,data2v2,data3v2,data4v2 = (recompile(countryupdate,current_year))\n",
    "# data1: work hours\n",
    "# data2: mental and substance use disorders\n",
    "# data3: depression rates\n",
    "# data4: suicide rates"
   ]
  },
  {
   "cell_type": "code",
   "execution_count": 54,
   "metadata": {
    "scrolled": true
   },
   "outputs": [
    {
     "data": {
      "text/html": [
       "<div>\n",
       "<style scoped>\n",
       "    .dataframe tbody tr th:only-of-type {\n",
       "        vertical-align: middle;\n",
       "    }\n",
       "\n",
       "    .dataframe tbody tr th {\n",
       "        vertical-align: top;\n",
       "    }\n",
       "\n",
       "    .dataframe thead th {\n",
       "        text-align: right;\n",
       "    }\n",
       "</style>\n",
       "<table border=\"1\" class=\"dataframe\">\n",
       "  <thead>\n",
       "    <tr style=\"text-align: right;\">\n",
       "      <th></th>\n",
       "      <th>country</th>\n",
       "      <th>EPI Score</th>\n",
       "      <th>10-Year Percent Change</th>\n",
       "      <th>Environmental Health</th>\n",
       "      <th>Ecosystem Vitality</th>\n",
       "      <th>EH - Health Impacts</th>\n",
       "      <th>EH - Air Quality</th>\n",
       "      <th>EH -Water and Sanitation</th>\n",
       "      <th>EV - Water Resources</th>\n",
       "      <th>EV - Agriculture</th>\n",
       "      <th>...</th>\n",
       "      <th>Fish Stocks</th>\n",
       "      <th>Coastal Shelf Fishing Pressure</th>\n",
       "      <th>Terrestrial Protected Areas (National Biome Weights)</th>\n",
       "      <th>Terrestrial Protected Areas (Global Biome Weights)</th>\n",
       "      <th>Marine Protected Areas</th>\n",
       "      <th>Critical Habitat Protection</th>\n",
       "      <th>Trend in Carbon Intensity</th>\n",
       "      <th>Change of Trend in Carbon Intensity</th>\n",
       "      <th>Trend in CO2 Emissions per KwH</th>\n",
       "      <th>Access to Electricity</th>\n",
       "    </tr>\n",
       "  </thead>\n",
       "  <tbody>\n",
       "    <tr>\n",
       "      <th>0</th>\n",
       "      <td>CHE</td>\n",
       "      <td>87.67</td>\n",
       "      <td>0.80</td>\n",
       "      <td>92.19</td>\n",
       "      <td>84.67</td>\n",
       "      <td>100.00</td>\n",
       "      <td>76.56</td>\n",
       "      <td>100.00</td>\n",
       "      <td>96.95</td>\n",
       "      <td>49.24</td>\n",
       "      <td>...</td>\n",
       "      <td>NaN</td>\n",
       "      <td>NaN</td>\n",
       "      <td>100.00</td>\n",
       "      <td>100.00</td>\n",
       "      <td>NaN</td>\n",
       "      <td>NaN</td>\n",
       "      <td>67.91</td>\n",
       "      <td>38.47</td>\n",
       "      <td>98.63</td>\n",
       "      <td>100</td>\n",
       "    </tr>\n",
       "    <tr>\n",
       "      <th>1</th>\n",
       "      <td>LUX</td>\n",
       "      <td>83.29</td>\n",
       "      <td>3.02</td>\n",
       "      <td>92.26</td>\n",
       "      <td>77.31</td>\n",
       "      <td>94.79</td>\n",
       "      <td>81.98</td>\n",
       "      <td>100.00</td>\n",
       "      <td>95.00</td>\n",
       "      <td>65.33</td>\n",
       "      <td>...</td>\n",
       "      <td>NaN</td>\n",
       "      <td>NaN</td>\n",
       "      <td>100.00</td>\n",
       "      <td>100.00</td>\n",
       "      <td>NaN</td>\n",
       "      <td>NaN</td>\n",
       "      <td>65.21</td>\n",
       "      <td>54.40</td>\n",
       "      <td>39.86</td>\n",
       "      <td>100</td>\n",
       "    </tr>\n",
       "    <tr>\n",
       "      <th>2</th>\n",
       "      <td>AUS</td>\n",
       "      <td>82.40</td>\n",
       "      <td>2.32</td>\n",
       "      <td>99.44</td>\n",
       "      <td>71.03</td>\n",
       "      <td>100.00</td>\n",
       "      <td>98.33</td>\n",
       "      <td>100.00</td>\n",
       "      <td>92.33</td>\n",
       "      <td>66.46</td>\n",
       "      <td>...</td>\n",
       "      <td>24.1</td>\n",
       "      <td>14.65</td>\n",
       "      <td>72.06</td>\n",
       "      <td>70.97</td>\n",
       "      <td>99.29</td>\n",
       "      <td>90.0</td>\n",
       "      <td>44.55</td>\n",
       "      <td>31.12</td>\n",
       "      <td>53.98</td>\n",
       "      <td>100</td>\n",
       "    </tr>\n",
       "    <tr>\n",
       "      <th>3</th>\n",
       "      <td>SGP</td>\n",
       "      <td>81.78</td>\n",
       "      <td>0.94</td>\n",
       "      <td>99.44</td>\n",
       "      <td>70.01</td>\n",
       "      <td>100.00</td>\n",
       "      <td>98.33</td>\n",
       "      <td>100.00</td>\n",
       "      <td>99.65</td>\n",
       "      <td>96.00</td>\n",
       "      <td>...</td>\n",
       "      <td>0.0</td>\n",
       "      <td>0.00</td>\n",
       "      <td>28.47</td>\n",
       "      <td>28.47</td>\n",
       "      <td>82.04</td>\n",
       "      <td>NaN</td>\n",
       "      <td>90.00</td>\n",
       "      <td>0.00</td>\n",
       "      <td>81.37</td>\n",
       "      <td>73</td>\n",
       "    </tr>\n",
       "    <tr>\n",
       "      <th>4</th>\n",
       "      <td>CZE</td>\n",
       "      <td>81.47</td>\n",
       "      <td>3.47</td>\n",
       "      <td>90.63</td>\n",
       "      <td>75.35</td>\n",
       "      <td>100.00</td>\n",
       "      <td>73.99</td>\n",
       "      <td>97.91</td>\n",
       "      <td>75.68</td>\n",
       "      <td>67.07</td>\n",
       "      <td>...</td>\n",
       "      <td>NaN</td>\n",
       "      <td>NaN</td>\n",
       "      <td>98.35</td>\n",
       "      <td>98.41</td>\n",
       "      <td>NaN</td>\n",
       "      <td>NaN</td>\n",
       "      <td>77.62</td>\n",
       "      <td>30.98</td>\n",
       "      <td>54.43</td>\n",
       "      <td>100</td>\n",
       "    </tr>\n",
       "  </tbody>\n",
       "</table>\n",
       "<p>5 rows × 34 columns</p>\n",
       "</div>"
      ],
      "text/plain": [
       "  country  EPI Score  10-Year Percent Change  Environmental Health  \\\n",
       "0     CHE      87.67                    0.80                 92.19   \n",
       "1     LUX      83.29                    3.02                 92.26   \n",
       "2     AUS      82.40                    2.32                 99.44   \n",
       "3     SGP      81.78                    0.94                 99.44   \n",
       "4     CZE      81.47                    3.47                 90.63   \n",
       "\n",
       "   Ecosystem Vitality  EH - Health Impacts  EH - Air Quality  \\\n",
       "0               84.67               100.00             76.56   \n",
       "1               77.31                94.79             81.98   \n",
       "2               71.03               100.00             98.33   \n",
       "3               70.01               100.00             98.33   \n",
       "4               75.35               100.00             73.99   \n",
       "\n",
       "   EH -Water and Sanitation  EV - Water Resources  EV - Agriculture  \\\n",
       "0                    100.00                 96.95             49.24   \n",
       "1                    100.00                 95.00             65.33   \n",
       "2                    100.00                 92.33             66.46   \n",
       "3                    100.00                 99.65             96.00   \n",
       "4                     97.91                 75.68             67.07   \n",
       "\n",
       "           ...            Fish Stocks  Coastal Shelf Fishing Pressure  \\\n",
       "0          ...                    NaN                             NaN   \n",
       "1          ...                    NaN                             NaN   \n",
       "2          ...                   24.1                           14.65   \n",
       "3          ...                    0.0                            0.00   \n",
       "4          ...                    NaN                             NaN   \n",
       "\n",
       "   Terrestrial Protected Areas (National Biome Weights)  \\\n",
       "0                                             100.00      \n",
       "1                                             100.00      \n",
       "2                                              72.06      \n",
       "3                                              28.47      \n",
       "4                                              98.35      \n",
       "\n",
       "   Terrestrial Protected Areas (Global Biome Weights)  Marine Protected Areas  \\\n",
       "0                                             100.00                      NaN   \n",
       "1                                             100.00                      NaN   \n",
       "2                                              70.97                    99.29   \n",
       "3                                              28.47                    82.04   \n",
       "4                                              98.41                      NaN   \n",
       "\n",
       "   Critical Habitat Protection  Trend in Carbon Intensity  \\\n",
       "0                          NaN                      67.91   \n",
       "1                          NaN                      65.21   \n",
       "2                         90.0                      44.55   \n",
       "3                          NaN                      90.00   \n",
       "4                          NaN                      77.62   \n",
       "\n",
       "   Change of Trend in Carbon Intensity  Trend in CO2 Emissions per KwH  \\\n",
       "0                                38.47                           98.63   \n",
       "1                                54.40                           39.86   \n",
       "2                                31.12                           53.98   \n",
       "3                                 0.00                           81.37   \n",
       "4                                30.98                           54.43   \n",
       "\n",
       "   Access to Electricity  \n",
       "0                    100  \n",
       "1                    100  \n",
       "2                    100  \n",
       "3                     73  \n",
       "4                    100  \n",
       "\n",
       "[5 rows x 34 columns]"
      ]
     },
     "execution_count": 54,
     "metadata": {},
     "output_type": "execute_result"
    }
   ],
   "source": [
    "df11.head()"
   ]
  },
  {
   "cell_type": "code",
   "execution_count": 6,
   "metadata": {},
   "outputs": [],
   "source": [
    "Freedom = get_data(df9,'Freedom',use_year=False)"
   ]
  },
  {
   "cell_type": "code",
   "execution_count": 7,
   "metadata": {},
   "outputs": [],
   "source": [
    "epi=get_data(df11,'EPI Score',use_year=False)"
   ]
  },
  {
   "cell_type": "code",
   "execution_count": 8,
   "metadata": {},
   "outputs": [],
   "source": [
    "hair=get_data(df11,'Household Air Quality',use_year=False)"
   ]
  },
  {
   "cell_type": "code",
   "execution_count": 9,
   "metadata": {},
   "outputs": [],
   "source": [
    "Generosity = get_data(df9,'Generosity',use_year=False)"
   ]
  },
  {
   "cell_type": "code",
   "execution_count": 10,
   "metadata": {},
   "outputs": [],
   "source": [
    "money = get_data(df9,'Economy (GDP per Capita)',use_year=False)"
   ]
  },
  {
   "cell_type": "code",
   "execution_count": 11,
   "metadata": {},
   "outputs": [],
   "source": [
    "trust = get_data(df9,'Trust (Government Corruption)',use_year=False)"
   ]
  },
  {
   "cell_type": "code",
   "execution_count": 12,
   "metadata": {},
   "outputs": [],
   "source": [
    "air_quality = get_data(df8,'PM2.5 air pollution, mean annual exposure (micrograms per cubic meter) (micrograms per cubic meter)',countries=countries,country_code='Code',year='Year')"
   ]
  },
  {
   "cell_type": "code",
   "execution_count": 13,
   "metadata": {},
   "outputs": [],
   "source": [
    "air_qualityv2 = get_data(df8,'PM2.5 air pollution, mean annual exposure (micrograms per cubic meter) (micrograms per cubic meter)',countries=countryupdate,country_code='Code',year='Year')"
   ]
  },
  {
   "cell_type": "code",
   "execution_count": 8,
   "metadata": {},
   "outputs": [],
   "source": [
    "happy = get_data(df9,'Happiness Score',use_year=False)"
   ]
  },
  {
   "cell_type": "code",
   "execution_count": 15,
   "metadata": {},
   "outputs": [],
   "source": [
    "happyv2 = get_data(df9,'Happiness Score',countries=countryupdate,use_year=False)"
   ]
  },
  {
   "cell_type": "code",
   "execution_count": 16,
   "metadata": {},
   "outputs": [],
   "source": [
    "giving = get_data(df9,'Generosity',use_year=False)"
   ]
  },
  {
   "cell_type": "code",
   "execution_count": 13,
   "metadata": {},
   "outputs": [],
   "source": [
    "# data1: work hours\n",
    "# data2: mental and substance use disorders\n",
    "# data3: depression rates\n",
    "# data4: suicide rates"
   ]
  },
  {
   "cell_type": "code",
   "execution_count": 4,
   "metadata": {},
   "outputs": [],
   "source": [
    "def graphit(x1,y1,filename,x_label,y_label,title='Untitled',save=True,country=True):\n",
    "    plt.scatter(x1,y1)\n",
    "    plt.title(title)\n",
    "    plt.xlabel(x_label)\n",
    "    plt.ylabel(y_label)\n",
    "    \n",
    "    if country:\n",
    "        for line in range(0,len(x1)):\n",
    "            plt.text(x1[line], y1[line], countries[line])\n",
    "    \n",
    "    if save:\n",
    "        plt.savefig('graphs/'+filename+'.png')\n",
    "    plt.show()"
   ]
  },
  {
   "cell_type": "code",
   "execution_count": 9,
   "metadata": {
    "scrolled": false
   },
   "outputs": [
    {
     "data": {
      "image/png": "[encoded data removed]",
      "text/plain": [
       "<Figure size 432x288 with 1 Axes>"
      ]
     },
     "metadata": {
      "needs_background": "light"
     },
     "output_type": "display_data"
    }
   ],
   "source": [
    "graphit(epi,happy,'epivshappy','Enviromental Index','Happiness Index','Enviromental Performance Index vs \\n Happiness index Score',True,True)"
   ]
  },
  {
   "cell_type": "code",
   "execution_count": 10,
   "metadata": {},
   "outputs": [
    {
     "name": "stdout",
     "output_type": "stream",
     "text": [
      "The r-squared value is 0.3118171071383778.\n",
      "The p value is 2.4038536021165e-06.\n",
      "The r value is 0.5584058623782328.\n",
      "The slope value is 0.04008923090012297.\n"
     ]
    }
   ],
   "source": [
    "### LINEAR REGRESSION ANALYSIS ###\n",
    "slope, intercept, r_value, p_value, std_err = stats.linregress(epi,happy)\n",
    "print('The r-squared value is %s.' % (r_value**2))\n",
    "print('The p value is %s.' % (p_value))\n",
    "print('The r value is %s.' % (r_value))\n",
    "print('The slope value is %s.' % (slope))"
   ]
  },
  {
   "cell_type": "code",
   "execution_count": 68,
   "metadata": {},
   "outputs": [
    {
     "data": {
      "image/png": "[encoded data removed]",
      "text/plain": [
       "<Figure size 432x288 with 1 Axes>"
      ]
     },
     "metadata": {},
     "output_type": "display_data"
    }
   ],
   "source": [
    "plot = sns.residplot(epi,happy, color=\"g\")\n",
    "fig = plot.get_figure()\n",
    "#fig.savefig('aqhred.png')"
   ]
  }
 ],
 "metadata": {
  "kernelspec": {
   "display_name": "Python 3",
   "language": "python",
   "name": "python3"
  },
  "language_info": {
   "codemirror_mode": {
    "name": "ipython",
    "version": 3
   },
   "file_extension": ".py",
   "mimetype": "text/x-python",
   "name": "python",
   "nbconvert_exporter": "python",
   "pygments_lexer": "ipython3",
   "version": "3.6.7"
  }
 },
 "nbformat": 4,
 "nbformat_minor": 2
}
